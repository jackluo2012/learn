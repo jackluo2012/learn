{
 "cells": [
  {
   "cell_type": "markdown",
   "metadata": {},
   "source": [
    "### DeepSeek-R1 模型本地部署保姆教程\n",
    "\n",
    "- 1.Ollama 部署工具介绍\n",
    "- 2.DeepSeek-R1主要特点和应用场景\n",
    "- 3.使用 Ollama部署 DeepSeek-R1步骤\n",
    "- 4.总结"
   ]
  }
 ],
 "metadata": {
  "language_info": {
   "name": "python"
  }
 },
 "nbformat": 4,
 "nbformat_minor": 2
}
