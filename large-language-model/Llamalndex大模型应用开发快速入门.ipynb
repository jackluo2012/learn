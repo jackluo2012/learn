{
 "cells": [
  {
   "cell_type": "markdown",
   "metadata": {},
   "source": [
    "### Llamalndex大模型应用开发快速入门\n",
    "\n",
    "##### 一、什么是 Llamalndex\n",
    "- 1.简介\n",
    "- Llamalndex 是一个用于 LLM 应用程序的数据框架，用于注入，结构化，并访问私有或特定领域数据。就是将大模型部署到本地或是公司服务器上，然后将自有数据结合大模型为个人或是企业服务。\n",
    "- 官方文档:https://docs.llamaindex.ai/en/stable/\n",
    "- 中文文档:https://www.aidoczh.com/llamaindex/\n",
    "- RAG是一种用额外数据增强大语言模型知识的技术。\n",
    "\n",
    "-  大语言模型可以对广泛的主题进行推理，但它们的知识仅限于训练时截止日期前的公开数据。如果你想构建能够对私有数据或模型截止日期后引入的数据进行推理的人工智能应用，你需要用特定信息来增强模型的知识。检索适当信息并将其插入模型提示的过程被称为检索增强生成(RAG)。LangChain有许多组件旨在帮助构建问答应用，以及更广泛的RAG应用。"
   ]
  },
  {
   "cell_type": "markdown",
   "metadata": {},
   "source": [
    "### 二、Llamalndex 核心组件\n",
    "- Llamalndex 提供的五大核心工具如下:\n",
    "- 1.数据连接器(Data Connectors)\n",
    "    - 数据连接器用于从各种数据源中摄取数据，并将其转换为统一的文档表示形式。支持的数据源包括本地文件、PDF、API、SQL数据库、Notion、Google 文档等。\n",
    "\n",
    "- 2.数据索引(Data Indexes)\n",
    "    - 数据索引将数据组织成可査询的索引形式，支持多种索引类型:向量索引(VectorStore Index):基于向量相似度检索数据。列表索引(ListIndex):按顺序存储节点，支持关键字过滤。树形索引(TreeIndex):构建层次化结构，支持从根节点到叶节点的査询。关键字表索引(Keyword Table Index):通过关键字映射快速检索节点。\n",
    "\n",
    "- 3.引擎(Engines)\n",
    "    - 提供对数据的自然语言访问，主要包括:查询引擎(Query Engines):用于问答，例如 RAG 流程中结合上下文和 LLM 生成答案。聊天引擎(Chat Engines):用于与数据进行多轮对话交互。\n",
    "- 4.数据代理(Data Agents)\n",
    "    - 数据代理是由大语言模型(LLM)驱动的知识工作者，通过工具增强，能够执行各种任务，如研究、数据提取等。代理可以使用 RAG 管道等多种工具来完成任务。\n",
    "\n",
    "- 5.应用集成(Application Integrations)\n",
    "    - Llamalndex 提供了丰富的应用集成选项，包括:向量数据库集成:如 Pinecone、Chroma、Weaviate.Milvus 等。应用框架集成:如 Streamlit、Chainlit。其他集成:如与OpenAl APl、Hugging FaceTransformers、Azure OpenAl 等模型服务的对接"
   ]
  },
  {
   "cell_type": "code",
   "execution_count": null,
   "metadata": {
    "vscode": {
     "languageId": "plaintext"
    }
   },
   "outputs": [],
   "source": []
  }
 ],
 "metadata": {
  "language_info": {
   "name": "python"
  }
 },
 "nbformat": 4,
 "nbformat_minor": 2
}
