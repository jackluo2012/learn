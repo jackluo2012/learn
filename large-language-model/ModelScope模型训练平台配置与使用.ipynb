{
 "cells": [
  {
   "cell_type": "markdown",
   "metadata": {},
   "source": [
    "#### ModelScope模型训练平台配置与使用\n",
    "- 1.ModelScope介绍\n",
    "- 2.环境安装与模型下载\n",
    "- 3.模型推理\n",
    "- 4.模型微调\n",
    "- 5.模型部署"
   ]
  },
  {
   "cell_type": "markdown",
   "metadata": {},
   "source": [
    "### 环境安装\n",
    "您可以使用魔搭社区已经预安装好的 Notebook环境 来使用魔搭社区模型。魔搭社区Notebook为新用户提供了100小时的免费GPU算力和不限时长的免费CPU算力，并预安装了大部分模型可运行的环境依赖。\n",
    "如果您希望在本地开发环境使用魔搭社区的模型，我们推荐使用ModelScope SDK下载模型。您可以使用如下命令安装ModelScope SDK:"
   ]
  },
  {
   "cell_type": "code",
   "execution_count": null,
   "metadata": {
    "vscode": {
     "languageId": "plaintext"
    }
   },
   "outputs": [],
   "source": [
    "pip install modelscope"
   ]
  },
  {
   "cell_type": "markdown",
   "metadata": {},
   "source": []
  }
 ],
 "metadata": {
  "language_info": {
   "name": "python"
  }
 },
 "nbformat": 4,
 "nbformat_minor": 2
}
