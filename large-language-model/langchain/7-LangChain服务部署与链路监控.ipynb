{
 "cells": [
  {
   "cell_type": "markdown",
   "metadata": {},
   "source": [
    "### LangChain服务部署与链路监控\n",
    " - 1.LangServe服务部署\n",
    " - 2.LangSmith Tracing(跟踪)\n",
    " - 3.Verbose(详细日志打印)\n",
    " - 4.Debug(调试日志打印)"
   ]
  },
  {
   "cell_type": "code",
   "execution_count": 1,
   "metadata": {},
   "outputs": [
    {
     "name": "stdout",
     "output_type": "stream",
     "text": [
      "Looking in indexes: https://mirrors.aliyun.com/pypi/simple/\n",
      "Collecting langserve[all]\n",
      "  Downloading https://mirrors.aliyun.com/pypi/packages/89/e4/6a26851d96c445d783d188c330cb871b56f03b18824ad8fadf6452d18a88/langserve-0.3.1-py3-none-any.whl (1.2 MB)\n",
      "     ---------------------------------------- 0.0/1.2 MB ? eta -:--:--\n",
      "     ---------------------------------------- 0.0/1.2 MB ? eta -:--:--\n",
      "     ---------------------------------------- 0.0/1.2 MB ? eta -:--:--\n",
      "     ---------------------------------------- 0.0/1.2 MB ? eta -:--:--\n",
      "     -------- ------------------------------- 0.3/1.2 MB ? eta -:--:--\n",
      "     -------- ------------------------------- 0.3/1.2 MB ? eta -:--:--\n",
      "     -------- ------------------------------- 0.3/1.2 MB ? eta -:--:--\n",
      "     ----------------- ---------------------- 0.5/1.2 MB 365.1 kB/s eta 0:00:02\n",
      "     ----------------- ---------------------- 0.5/1.2 MB 365.1 kB/s eta 0:00:02\n",
      "     ----------------- ---------------------- 0.5/1.2 MB 365.1 kB/s eta 0:00:02\n",
      "     ----------------- ---------------------- 0.5/1.2 MB 365.1 kB/s eta 0:00:02\n",
      "     -------------------------- ------------- 0.8/1.2 MB 360.8 kB/s eta 0:00:02\n",
      "     -------------------------- ------------- 0.8/1.2 MB 360.8 kB/s eta 0:00:02\n",
      "     -------------------------- ------------- 0.8/1.2 MB 360.8 kB/s eta 0:00:02\n",
      "     ----------------------------------- ---- 1.0/1.2 MB 362.1 kB/s eta 0:00:01\n",
      "     ----------------------------------- ---- 1.0/1.2 MB 362.1 kB/s eta 0:00:01\n",
      "     ---------------------------------------- 1.2/1.2 MB 369.1 kB/s eta 0:00:00\n",
      "Requirement already satisfied: httpx<1.0,>=0.23.0 in d:\\works\\learn\\.venv\\lib\\site-packages (from langserve[all]) (0.28.1)\n",
      "Requirement already satisfied: langchain-core<0.4,>=0.3 in d:\\works\\learn\\.venv\\lib\\site-packages (from langserve[all]) (0.3.37)\n",
      "Requirement already satisfied: orjson<4,>=2 in d:\\works\\learn\\.venv\\lib\\site-packages (from langserve[all]) (3.10.15)\n",
      "Requirement already satisfied: pydantic<3.0,>=2.7 in d:\\works\\learn\\.venv\\lib\\site-packages (from langserve[all]) (2.10.6)\n",
      "Requirement already satisfied: fastapi<1,>=0.90.1 in d:\\works\\learn\\.venv\\lib\\site-packages (from langserve[all]) (0.115.8)\n",
      "Collecting sse-starlette<2.0.0,>=1.3.0 (from langserve[all])\n",
      "  Downloading https://mirrors.aliyun.com/pypi/packages/34/7e/d6087916bf58a4343459b47807a116a3a755e6ddd4857f375547e00f6252/sse_starlette-1.8.2-py3-none-any.whl (8.9 kB)\n",
      "Requirement already satisfied: starlette<0.46.0,>=0.40.0 in d:\\works\\learn\\.venv\\lib\\site-packages (from fastapi<1,>=0.90.1->langserve[all]) (0.45.3)\n",
      "Requirement already satisfied: typing-extensions>=4.8.0 in d:\\works\\learn\\.venv\\lib\\site-packages (from fastapi<1,>=0.90.1->langserve[all]) (4.12.2)\n",
      "Requirement already satisfied: anyio in d:\\works\\learn\\.venv\\lib\\site-packages (from httpx<1.0,>=0.23.0->langserve[all]) (4.8.0)\n",
      "Requirement already satisfied: certifi in d:\\works\\learn\\.venv\\lib\\site-packages (from httpx<1.0,>=0.23.0->langserve[all]) (2025.1.31)\n",
      "Requirement already satisfied: httpcore==1.* in d:\\works\\learn\\.venv\\lib\\site-packages (from httpx<1.0,>=0.23.0->langserve[all]) (1.0.7)\n",
      "Requirement already satisfied: idna in d:\\works\\learn\\.venv\\lib\\site-packages (from httpx<1.0,>=0.23.0->langserve[all]) (3.10)\n",
      "Requirement already satisfied: h11<0.15,>=0.13 in d:\\works\\learn\\.venv\\lib\\site-packages (from httpcore==1.*->httpx<1.0,>=0.23.0->langserve[all]) (0.14.0)\n",
      "Requirement already satisfied: langsmith<0.4,>=0.1.125 in d:\\works\\learn\\.venv\\lib\\site-packages (from langchain-core<0.4,>=0.3->langserve[all]) (0.3.8)\n",
      "Requirement already satisfied: tenacity!=8.4.0,<10.0.0,>=8.1.0 in d:\\works\\learn\\.venv\\lib\\site-packages (from langchain-core<0.4,>=0.3->langserve[all]) (9.0.0)\n",
      "Requirement already satisfied: jsonpatch<2.0,>=1.33 in d:\\works\\learn\\.venv\\lib\\site-packages (from langchain-core<0.4,>=0.3->langserve[all]) (1.33)\n",
      "Requirement already satisfied: PyYAML>=5.3 in d:\\works\\learn\\.venv\\lib\\site-packages (from langchain-core<0.4,>=0.3->langserve[all]) (6.0.2)\n",
      "Requirement already satisfied: packaging<25,>=23.2 in d:\\works\\learn\\.venv\\lib\\site-packages (from langchain-core<0.4,>=0.3->langserve[all]) (24.2)\n",
      "Requirement already satisfied: annotated-types>=0.6.0 in d:\\works\\learn\\.venv\\lib\\site-packages (from pydantic<3.0,>=2.7->langserve[all]) (0.7.0)\n",
      "Requirement already satisfied: pydantic-core==2.27.2 in d:\\works\\learn\\.venv\\lib\\site-packages (from pydantic<3.0,>=2.7->langserve[all]) (2.27.2)\n",
      "Requirement already satisfied: uvicorn in d:\\works\\learn\\.venv\\lib\\site-packages (from sse-starlette<2.0.0,>=1.3.0->langserve[all]) (0.34.0)\n",
      "Requirement already satisfied: jsonpointer>=1.9 in d:\\works\\learn\\.venv\\lib\\site-packages (from jsonpatch<2.0,>=1.33->langchain-core<0.4,>=0.3->langserve[all]) (3.0.0)\n",
      "Requirement already satisfied: requests<3,>=2 in d:\\works\\learn\\.venv\\lib\\site-packages (from langsmith<0.4,>=0.1.125->langchain-core<0.4,>=0.3->langserve[all]) (2.32.3)\n",
      "Requirement already satisfied: requests-toolbelt<2.0.0,>=1.0.0 in d:\\works\\learn\\.venv\\lib\\site-packages (from langsmith<0.4,>=0.1.125->langchain-core<0.4,>=0.3->langserve[all]) (1.0.0)\n",
      "Requirement already satisfied: zstandard<0.24.0,>=0.23.0 in d:\\works\\learn\\.venv\\lib\\site-packages (from langsmith<0.4,>=0.1.125->langchain-core<0.4,>=0.3->langserve[all]) (0.23.0)\n",
      "Requirement already satisfied: exceptiongroup>=1.0.2 in d:\\works\\learn\\.venv\\lib\\site-packages (from anyio->httpx<1.0,>=0.23.0->langserve[all]) (1.2.2)\n",
      "Requirement already satisfied: sniffio>=1.1 in d:\\works\\learn\\.venv\\lib\\site-packages (from anyio->httpx<1.0,>=0.23.0->langserve[all]) (1.3.1)\n",
      "Requirement already satisfied: click>=7.0 in d:\\works\\learn\\.venv\\lib\\site-packages (from uvicorn->sse-starlette<2.0.0,>=1.3.0->langserve[all]) (8.1.8)\n",
      "Requirement already satisfied: colorama in d:\\works\\learn\\.venv\\lib\\site-packages (from click>=7.0->uvicorn->sse-starlette<2.0.0,>=1.3.0->langserve[all]) (0.4.6)\n",
      "Requirement already satisfied: charset-normalizer<4,>=2 in d:\\works\\learn\\.venv\\lib\\site-packages (from requests<3,>=2->langsmith<0.4,>=0.1.125->langchain-core<0.4,>=0.3->langserve[all]) (3.4.1)\n",
      "Requirement already satisfied: urllib3<3,>=1.21.1 in d:\\works\\learn\\.venv\\lib\\site-packages (from requests<3,>=2->langsmith<0.4,>=0.1.125->langchain-core<0.4,>=0.3->langserve[all]) (2.3.0)\n",
      "Installing collected packages: sse-starlette, langserve\n",
      "Successfully installed langserve-0.3.1 sse-starlette-1.8.2\n"
     ]
    }
   ],
   "source": [
    "! pip install --upgrade \"langserve[all]\""
   ]
  },
  {
   "cell_type": "markdown",
   "metadata": {},
   "source": [
    "### LangChain CLl\n",
    " - 使用 Langchain CLl快速启动 LangServe项目。\n",
    " - 要使用 langchain CLl，请确保已安装最新版本的 langchain-cli 。您可以使用 pip install -u langchain-cli 进行安装。"
   ]
  },
  {
   "cell_type": "code",
   "execution_count": 3,
   "metadata": {},
   "outputs": [
    {
     "name": "stdout",
     "output_type": "stream",
     "text": [
      "Looking in indexes: https://mirrors.aliyun.com/pypi/simple/\n",
      "Collecting langchain-cli\n",
      "  Downloading https://mirrors.aliyun.com/pypi/packages/1c/9a/252be5bedd3709455fbd959199fb3b81909078b26c0338453d8a5b514614/langchain_cli-0.0.35-py3-none-any.whl (117 kB)\n",
      "Collecting gitpython<4,>=3 (from langchain-cli)\n",
      "  Downloading https://mirrors.aliyun.com/pypi/packages/1d/9a/4114a9057db2f1462d5c8f8390ab7383925fe1ac012eaa42402ad65c2963/GitPython-3.1.44-py3-none-any.whl (207 kB)\n",
      "Collecting gritql<0.2.0,>=0.1.1 (from langchain-cli)\n",
      "  Downloading https://mirrors.aliyun.com/pypi/packages/00/b0/f4fc7ca0f7f6a848f0a2126067695f6b7c8fd43a5e50ba50806d66887505/gritql-0.1.5-py2.py3-none-any.whl (5.2 kB)\n",
      "Requirement already satisfied: langserve>=0.0.51 in d:\\works\\learn\\.venv\\lib\\site-packages (from langserve[all]>=0.0.51->langchain-cli) (0.3.1)\n",
      "Collecting tomlkit>=0.12 (from langchain-cli)\n",
      "  Downloading https://mirrors.aliyun.com/pypi/packages/f9/b6/a447b5e4ec71e13871be01ba81f5dfc9d0af7e473da256ff46bc0e24026f/tomlkit-0.13.2-py3-none-any.whl (37 kB)\n",
      "Collecting typer<0.10.0,>=0.9.0 (from typer[all]<0.10.0,>=0.9.0->langchain-cli)\n",
      "  Downloading https://mirrors.aliyun.com/pypi/packages/62/39/82c9d3e10979851847361d922a373bdfef4091020da7f893acfaf07c0225/typer-0.9.4-py3-none-any.whl (45 kB)\n",
      "Requirement already satisfied: uvicorn<1.0,>=0.23 in d:\\works\\learn\\.venv\\lib\\site-packages (from langchain-cli) (0.34.0)\n",
      "Collecting gitdb<5,>=4.0.1 (from gitpython<4,>=3->langchain-cli)\n",
      "  Downloading https://mirrors.aliyun.com/pypi/packages/a0/61/5c78b91c3143ed5c14207f463aecfc8f9dbb5092fb2869baf37c273b2705/gitdb-4.0.12-py3-none-any.whl (62 kB)\n",
      "Requirement already satisfied: httpx<1.0,>=0.23.0 in d:\\works\\learn\\.venv\\lib\\site-packages (from langserve>=0.0.51->langserve[all]>=0.0.51->langchain-cli) (0.28.1)\n",
      "Requirement already satisfied: langchain-core<0.4,>=0.3 in d:\\works\\learn\\.venv\\lib\\site-packages (from langserve>=0.0.51->langserve[all]>=0.0.51->langchain-cli) (0.3.37)\n",
      "Requirement already satisfied: orjson<4,>=2 in d:\\works\\learn\\.venv\\lib\\site-packages (from langserve>=0.0.51->langserve[all]>=0.0.51->langchain-cli) (3.10.15)\n",
      "Requirement already satisfied: pydantic<3.0,>=2.7 in d:\\works\\learn\\.venv\\lib\\site-packages (from langserve>=0.0.51->langserve[all]>=0.0.51->langchain-cli) (2.10.6)\n",
      "Requirement already satisfied: fastapi<1,>=0.90.1 in d:\\works\\learn\\.venv\\lib\\site-packages (from langserve[all]>=0.0.51->langchain-cli) (0.115.8)\n",
      "Requirement already satisfied: sse-starlette<2.0.0,>=1.3.0 in d:\\works\\learn\\.venv\\lib\\site-packages (from langserve[all]>=0.0.51->langchain-cli) (1.8.2)\n",
      "Requirement already satisfied: click<9.0.0,>=7.1.1 in d:\\works\\learn\\.venv\\lib\\site-packages (from typer<0.10.0,>=0.9.0->typer[all]<0.10.0,>=0.9.0->langchain-cli) (8.1.8)\n",
      "Requirement already satisfied: typing-extensions>=3.7.4.3 in d:\\works\\learn\\.venv\\lib\\site-packages (from typer<0.10.0,>=0.9.0->typer[all]<0.10.0,>=0.9.0->langchain-cli) (4.12.2)\n",
      "Requirement already satisfied: colorama<0.5.0,>=0.4.3 in d:\\works\\learn\\.venv\\lib\\site-packages (from typer[all]<0.10.0,>=0.9.0->langchain-cli) (0.4.6)\n",
      "Requirement already satisfied: shellingham<2.0.0,>=1.3.0 in d:\\works\\learn\\.venv\\lib\\site-packages (from typer[all]<0.10.0,>=0.9.0->langchain-cli) (1.5.4)\n",
      "Requirement already satisfied: rich<14.0.0,>=10.11.0 in d:\\works\\learn\\.venv\\lib\\site-packages (from typer[all]<0.10.0,>=0.9.0->langchain-cli) (13.9.4)\n",
      "Requirement already satisfied: h11>=0.8 in d:\\works\\learn\\.venv\\lib\\site-packages (from uvicorn<1.0,>=0.23->langchain-cli) (0.14.0)\n",
      "Requirement already satisfied: starlette<0.46.0,>=0.40.0 in d:\\works\\learn\\.venv\\lib\\site-packages (from fastapi<1,>=0.90.1->langserve[all]>=0.0.51->langchain-cli) (0.45.3)\n",
      "Collecting smmap<6,>=3.0.1 (from gitdb<5,>=4.0.1->gitpython<4,>=3->langchain-cli)\n",
      "  Downloading https://mirrors.aliyun.com/pypi/packages/04/be/d09147ad1ec7934636ad912901c5fd7667e1c858e19d355237db0d0cd5e4/smmap-5.0.2-py3-none-any.whl (24 kB)\n",
      "Requirement already satisfied: anyio in d:\\works\\learn\\.venv\\lib\\site-packages (from httpx<1.0,>=0.23.0->langserve>=0.0.51->langserve[all]>=0.0.51->langchain-cli) (4.8.0)\n",
      "Requirement already satisfied: certifi in d:\\works\\learn\\.venv\\lib\\site-packages (from httpx<1.0,>=0.23.0->langserve>=0.0.51->langserve[all]>=0.0.51->langchain-cli) (2025.1.31)\n",
      "Requirement already satisfied: httpcore==1.* in d:\\works\\learn\\.venv\\lib\\site-packages (from httpx<1.0,>=0.23.0->langserve>=0.0.51->langserve[all]>=0.0.51->langchain-cli) (1.0.7)\n",
      "Requirement already satisfied: idna in d:\\works\\learn\\.venv\\lib\\site-packages (from httpx<1.0,>=0.23.0->langserve>=0.0.51->langserve[all]>=0.0.51->langchain-cli) (3.10)\n",
      "Requirement already satisfied: langsmith<0.4,>=0.1.125 in d:\\works\\learn\\.venv\\lib\\site-packages (from langchain-core<0.4,>=0.3->langserve>=0.0.51->langserve[all]>=0.0.51->langchain-cli) (0.3.8)\n",
      "Requirement already satisfied: tenacity!=8.4.0,<10.0.0,>=8.1.0 in d:\\works\\learn\\.venv\\lib\\site-packages (from langchain-core<0.4,>=0.3->langserve>=0.0.51->langserve[all]>=0.0.51->langchain-cli) (9.0.0)\n",
      "Requirement already satisfied: jsonpatch<2.0,>=1.33 in d:\\works\\learn\\.venv\\lib\\site-packages (from langchain-core<0.4,>=0.3->langserve>=0.0.51->langserve[all]>=0.0.51->langchain-cli) (1.33)\n",
      "Requirement already satisfied: PyYAML>=5.3 in d:\\works\\learn\\.venv\\lib\\site-packages (from langchain-core<0.4,>=0.3->langserve>=0.0.51->langserve[all]>=0.0.51->langchain-cli) (6.0.2)\n",
      "Requirement already satisfied: packaging<25,>=23.2 in d:\\works\\learn\\.venv\\lib\\site-packages (from langchain-core<0.4,>=0.3->langserve>=0.0.51->langserve[all]>=0.0.51->langchain-cli) (24.2)\n",
      "Requirement already satisfied: annotated-types>=0.6.0 in d:\\works\\learn\\.venv\\lib\\site-packages (from pydantic<3.0,>=2.7->langserve>=0.0.51->langserve[all]>=0.0.51->langchain-cli) (0.7.0)\n",
      "Requirement already satisfied: pydantic-core==2.27.2 in d:\\works\\learn\\.venv\\lib\\site-packages (from pydantic<3.0,>=2.7->langserve>=0.0.51->langserve[all]>=0.0.51->langchain-cli) (2.27.2)\n",
      "Requirement already satisfied: markdown-it-py>=2.2.0 in d:\\works\\learn\\.venv\\lib\\site-packages (from rich<14.0.0,>=10.11.0->typer[all]<0.10.0,>=0.9.0->langchain-cli) (3.0.0)\n",
      "Requirement already satisfied: pygments<3.0.0,>=2.13.0 in d:\\works\\learn\\.venv\\lib\\site-packages (from rich<14.0.0,>=10.11.0->typer[all]<0.10.0,>=0.9.0->langchain-cli) (2.19.1)\n",
      "Requirement already satisfied: jsonpointer>=1.9 in d:\\works\\learn\\.venv\\lib\\site-packages (from jsonpatch<2.0,>=1.33->langchain-core<0.4,>=0.3->langserve>=0.0.51->langserve[all]>=0.0.51->langchain-cli) (3.0.0)\n",
      "Requirement already satisfied: requests<3,>=2 in d:\\works\\learn\\.venv\\lib\\site-packages (from langsmith<0.4,>=0.1.125->langchain-core<0.4,>=0.3->langserve>=0.0.51->langserve[all]>=0.0.51->langchain-cli) (2.32.3)\n",
      "Requirement already satisfied: requests-toolbelt<2.0.0,>=1.0.0 in d:\\works\\learn\\.venv\\lib\\site-packages (from langsmith<0.4,>=0.1.125->langchain-core<0.4,>=0.3->langserve>=0.0.51->langserve[all]>=0.0.51->langchain-cli) (1.0.0)\n",
      "Requirement already satisfied: zstandard<0.24.0,>=0.23.0 in d:\\works\\learn\\.venv\\lib\\site-packages (from langsmith<0.4,>=0.1.125->langchain-core<0.4,>=0.3->langserve>=0.0.51->langserve[all]>=0.0.51->langchain-cli) (0.23.0)\n",
      "Requirement already satisfied: mdurl~=0.1 in d:\\works\\learn\\.venv\\lib\\site-packages (from markdown-it-py>=2.2.0->rich<14.0.0,>=10.11.0->typer[all]<0.10.0,>=0.9.0->langchain-cli) (0.1.2)\n",
      "Requirement already satisfied: exceptiongroup>=1.0.2 in d:\\works\\learn\\.venv\\lib\\site-packages (from anyio->httpx<1.0,>=0.23.0->langserve>=0.0.51->langserve[all]>=0.0.51->langchain-cli) (1.2.2)\n",
      "Requirement already satisfied: sniffio>=1.1 in d:\\works\\learn\\.venv\\lib\\site-packages (from anyio->httpx<1.0,>=0.23.0->langserve>=0.0.51->langserve[all]>=0.0.51->langchain-cli) (1.3.1)\n",
      "Requirement already satisfied: charset-normalizer<4,>=2 in d:\\works\\learn\\.venv\\lib\\site-packages (from requests<3,>=2->langsmith<0.4,>=0.1.125->langchain-core<0.4,>=0.3->langserve>=0.0.51->langserve[all]>=0.0.51->langchain-cli) (3.4.1)\n",
      "Requirement already satisfied: urllib3<3,>=1.21.1 in d:\\works\\learn\\.venv\\lib\\site-packages (from requests<3,>=2->langsmith<0.4,>=0.1.125->langchain-core<0.4,>=0.3->langserve>=0.0.51->langserve[all]>=0.0.51->langchain-cli) (2.3.0)\n",
      "Installing collected packages: gritql, tomlkit, smmap, typer, gitdb, gitpython, langchain-cli\n",
      "  Attempting uninstall: typer\n",
      "    Found existing installation: typer 0.15.1\n",
      "    Uninstalling typer-0.15.1:\n",
      "      Successfully uninstalled typer-0.15.1\n",
      "Successfully installed gitdb-4.0.12 gitpython-3.1.44 gritql-0.1.5 langchain-cli-0.0.35 smmap-5.0.2 tomlkit-0.13.2 typer-0.9.4\n"
     ]
    }
   ],
   "source": [
    "! pip install langchain-cli"
   ]
  },
  {
   "cell_type": "markdown",
   "metadata": {},
   "source": [
    "### 使用 langchain cli 命令创建新应用\n",
    "```bash\n",
    "langchain app new langserve\n",
    "\n",
    "pip install pipx\n",
    "# 加入到环境 变量中\n",
    "pipx ensurepath\n",
    "pipx install poetry\n",
    "\n",
    "#安装 langchain-openai库，例如:poetry add[package-name]poetry add langchain\n",
    "poetry add langchain-openai\n",
    "\n",
    "poetry env user .venv/Scripts/python.exe\n",
    "```"
   ]
  },
  {
   "cell_type": "markdown",
   "metadata": {},
   "source": [
    "### 安装langchain-openai 库，例如：poetry add [package-name]\n",
    "\n",
    "```bash\n",
    "poetry add langchain-openai\n",
    "poetry add langchain\n",
    "```\n"
   ]
  },
  {
   "cell_type": "code",
   "execution_count": null,
   "metadata": {},
   "outputs": [],
   "source": []
  },
  {
   "cell_type": "code",
   "execution_count": null,
   "metadata": {},
   "outputs": [
    {
     "ename": "SyntaxError",
     "evalue": "invalid syntax (4203712839.py, line 1)",
     "output_type": "error",
     "traceback": [
      "\u001b[1;36m  Cell \u001b[1;32mIn[4], line 1\u001b[1;36m\u001b[0m\n\u001b[1;33m    langchain app new langserve\u001b[0m\n\u001b[1;37m              ^\u001b[0m\n\u001b[1;31mSyntaxError\u001b[0m\u001b[1;31m:\u001b[0m invalid syntax\n"
     ]
    }
   ],
   "source": []
  }
 ],
 "metadata": {
  "kernelspec": {
   "display_name": ".venv",
   "language": "python",
   "name": "python3"
  },
  "language_info": {
   "codemirror_mode": {
    "name": "ipython",
    "version": 3
   },
   "file_extension": ".py",
   "mimetype": "text/x-python",
   "name": "python",
   "nbconvert_exporter": "python",
   "pygments_lexer": "ipython3",
   "version": "3.10.9"
  }
 },
 "nbformat": 4,
 "nbformat_minor": 2
}
