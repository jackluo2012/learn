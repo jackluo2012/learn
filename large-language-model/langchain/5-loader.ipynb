{
 "cells": [
  {
   "cell_type": "markdown",
   "metadata": {},
   "source": [
    "### Loader机制\n",
    "- 加载markdown\n",
    "- 加载 csv\n",
    "- 加载 json\n",
    "- 加载 html\n",
    "- 加载 pdf\n",
    "- 加载 docx\n",
    "- 加载 txt\n",
    "- 加载 yaml\n",
    "- 加载 xml"
   ]
  },
  {
   "cell_type": "code",
   "execution_count": null,
   "metadata": {
    "vscode": {
     "languageId": "plaintext"
    }
   },
   "outputs": [],
   "source": []
  }
 ],
 "metadata": {
  "language_info": {
   "name": "python"
  }
 },
 "nbformat": 4,
 "nbformat_minor": 2
}
