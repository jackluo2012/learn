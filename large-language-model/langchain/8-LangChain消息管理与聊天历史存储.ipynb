{
 "cells": [
  {
   "cell_type": "markdown",
   "metadata": {},
   "source": [
    "### LangChain消息管理与聊天历史存储"
   ]
  },
  {
   "cell_type": "code",
   "execution_count": 3,
   "id": "2dacf4ae",
   "metadata": {},
   "outputs": [
    {
     "ename": "ImportError",
     "evalue": "Could not import redis python package. Please install it with `pip install redis`.",
     "output_type": "error",
     "traceback": [
      "\u001b[1;31m---------------------------------------------------------------------------\u001b[0m",
      "\u001b[1;31mModuleNotFoundError\u001b[0m                       Traceback (most recent call last)",
      "File \u001b[1;32md:\\works\\learn\\.venv\\lib\\site-packages\\langchain_community\\chat_message_histories\\redis.py:76\u001b[0m, in \u001b[0;36mRedisChatMessageHistory.__init__\u001b[1;34m(self, session_id, url, key_prefix, ttl)\u001b[0m\n\u001b[0;32m     75\u001b[0m \u001b[38;5;28;01mtry\u001b[39;00m:\n\u001b[1;32m---> 76\u001b[0m     \u001b[38;5;28;01mimport\u001b[39;00m\u001b[38;5;250m \u001b[39m\u001b[38;5;21;01mredis\u001b[39;00m\n\u001b[0;32m     77\u001b[0m \u001b[38;5;28;01mexcept\u001b[39;00m \u001b[38;5;167;01mImportError\u001b[39;00m:\n",
      "\u001b[1;31mModuleNotFoundError\u001b[0m: No module named 'redis'",
      "\nDuring handling of the above exception, another exception occurred:\n",
      "\u001b[1;31mImportError\u001b[0m                               Traceback (most recent call last)",
      "Cell \u001b[1;32mIn[3], line 15\u001b[0m\n\u001b[0;32m     10\u001b[0m memory_history\u001b[38;5;241m.\u001b[39madd_ai_message(\u001b[38;5;124m\"\u001b[39m\u001b[38;5;124mI\u001b[39m\u001b[38;5;124m'\u001b[39m\u001b[38;5;124mm fine, thank you!\u001b[39m\u001b[38;5;124m\"\u001b[39m)\n\u001b[0;32m     13\u001b[0m \u001b[38;5;66;03m# 2. 消息持久化到Redis\u001b[39;00m\n\u001b[1;32m---> 15\u001b[0m redis_history \u001b[38;5;241m=\u001b[39m \u001b[43mRedisChatMessageHistory\u001b[49m\u001b[43m(\u001b[49m\u001b[43murl\u001b[49m\u001b[38;5;241;43m=\u001b[39;49m\u001b[38;5;124;43m\"\u001b[39;49m\u001b[38;5;124;43mredis://localhost:6379/0\u001b[39;49m\u001b[38;5;124;43m\"\u001b[39;49m\u001b[43m,\u001b[49m\u001b[43m \u001b[49m\u001b[43msession_id\u001b[49m\u001b[38;5;241;43m=\u001b[39;49m\u001b[38;5;124;43m\"\u001b[39;49m\u001b[38;5;124;43mmy_session\u001b[39;49m\u001b[38;5;124;43m\"\u001b[39;49m\u001b[43m)\u001b[49m\n\u001b[0;32m     16\u001b[0m redis_history\u001b[38;5;241m.\u001b[39madd_user_message(\u001b[38;5;124m\"\u001b[39m\u001b[38;5;124mHello, how are you?\u001b[39m\u001b[38;5;124m\"\u001b[39m)\n\u001b[0;32m     17\u001b[0m redis_history\u001b[38;5;241m.\u001b[39madd_ai_message(\u001b[38;5;124m\"\u001b[39m\u001b[38;5;124mI\u001b[39m\u001b[38;5;124m'\u001b[39m\u001b[38;5;124mm fine, thank you!\u001b[39m\u001b[38;5;124m\"\u001b[39m)\n",
      "File \u001b[1;32md:\\works\\learn\\.venv\\lib\\site-packages\\langchain_community\\chat_message_histories\\redis.py:78\u001b[0m, in \u001b[0;36mRedisChatMessageHistory.__init__\u001b[1;34m(self, session_id, url, key_prefix, ttl)\u001b[0m\n\u001b[0;32m     76\u001b[0m     \u001b[38;5;28;01mimport\u001b[39;00m\u001b[38;5;250m \u001b[39m\u001b[38;5;21;01mredis\u001b[39;00m\n\u001b[0;32m     77\u001b[0m \u001b[38;5;28;01mexcept\u001b[39;00m \u001b[38;5;167;01mImportError\u001b[39;00m:\n\u001b[1;32m---> 78\u001b[0m     \u001b[38;5;28;01mraise\u001b[39;00m \u001b[38;5;167;01mImportError\u001b[39;00m(\n\u001b[0;32m     79\u001b[0m         \u001b[38;5;124m\"\u001b[39m\u001b[38;5;124mCould not import redis python package. \u001b[39m\u001b[38;5;124m\"\u001b[39m\n\u001b[0;32m     80\u001b[0m         \u001b[38;5;124m\"\u001b[39m\u001b[38;5;124mPlease install it with `pip install redis`.\u001b[39m\u001b[38;5;124m\"\u001b[39m\n\u001b[0;32m     81\u001b[0m     )\n\u001b[0;32m     83\u001b[0m \u001b[38;5;28;01mtry\u001b[39;00m:\n\u001b[0;32m     84\u001b[0m     \u001b[38;5;28mself\u001b[39m\u001b[38;5;241m.\u001b[39mredis_client \u001b[38;5;241m=\u001b[39m get_client(redis_url\u001b[38;5;241m=\u001b[39murl)\n",
      "\u001b[1;31mImportError\u001b[0m: Could not import redis python package. Please install it with `pip install redis`."
     ]
    }
   ],
   "source": [
    "from langchain_core.prompts import ChatPromptTemplate, MessagesPlaceholder\n",
    "# 引入聊天消息历史记录\n",
    "from langchain_core.chat_history import BaseChatMessageHistory\n",
    "from langchain_community.chat_message_histories import ChatMessageHistory, RedisChatMessageHistory\n",
    "\n",
    "# 1. 消息存储在内存\n",
    "\n",
    "memory_history = ChatMessageHistory()\n",
    "memory_history.add_user_message(\"Hello, how are you?\")\n",
    "memory_history.add_ai_message(\"I'm fine, thank you!\")\n",
    "\n",
    "\n",
    "# 2. 消息持久化到Redis\n",
    "\n",
    "redis_history = RedisChatMessageHistory(url=\"redis://localhost:6379/0\", session_id=\"my_session\")\n",
    "redis_history.add_user_message(\"Hello, how are you?\")\n",
    "redis_history.add_ai_message(\"I'm fine, thank you!\")\n",
    "\n",
    "\n",
    "# 3. 修改聊天历史\n",
    "\n",
    "redis_history.messages[-1] = \"I'm doing great, thanks for asking!\"\n",
    "\n",
    "\n",
    "# 4. 裁剪消息\n",
    "\n",
    "redis_history.messages = redis_history.messages[-10:]  # 只保留最近10条消息\n",
    "\n",
    "\n",
    "# 5. 总结记忆\n",
    "\n",
    "summary = \" \".join([msg.content for msg in redis_history.messages])\n",
    "\n",
    "print(\"Chat Summary:\", summary)"
   ]
  }
 ],
 "metadata": {
  "kernelspec": {
   "display_name": "Python 3 (ipykernel)",
   "language": "python",
   "name": "python3"
  },
  "language_info": {
   "codemirror_mode": {
    "name": "ipython",
    "version": 3
   },
   "file_extension": ".py",
   "mimetype": "text/x-python",
   "name": "python",
   "nbconvert_exporter": "python",
   "pygments_lexer": "ipython3",
   "version": "3.11.5"
  }
 },
 "nbformat": 4,
 "nbformat_minor": 5
}
