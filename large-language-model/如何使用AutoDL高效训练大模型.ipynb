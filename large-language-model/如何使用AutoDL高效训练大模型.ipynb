{
 "cells": [
  {
   "cell_type": "markdown",
   "metadata": {},
   "source": [
    "### 如何使用AutoDL高效训练大模型\n",
    "\n",
    "- 1.AutoDL介绍与快速开始\n",
    "- 2.如何选择GPU服务器\n",
    "- 3.如何使用JupyterLab和SSH远程连接\n",
    "- 4，Conda环境安装与PvCharm远程开发"
   ]
  }
 ],
 "metadata": {
  "language_info": {
   "name": "python"
  }
 },
 "nbformat": 4,
 "nbformat_minor": 2
}
